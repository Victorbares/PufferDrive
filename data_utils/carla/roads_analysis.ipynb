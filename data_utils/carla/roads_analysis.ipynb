{
 "cells": [
  {
   "cell_type": "code",
   "execution_count": null,
   "id": "0b6f726c",
   "metadata": {},
   "outputs": [],
   "source": [
    "import sys\n",
    "import os\n",
    "import json\n",
    "import glob\n",
    "import numpy as np\n",
    "from lxml import etree\n",
    "from pyxodr.road_objects.road import Road\n",
    "from pyxodr.road_objects.lane import Lane, ConnectionPosition, LaneOrientation, TrafficOrientation\n",
    "from pyxodr.road_objects.junction import Junction\n",
    "from pyxodr.road_objects.lane_section import LaneSection\n",
    "from pyxodr.road_objects.network import RoadNetwork\n",
    "from shapely.geometry import Polygon\n",
    "from enum import IntEnum"
   ]
  },
  {
   "cell_type": "code",
   "execution_count": null,
   "id": "79719698",
   "metadata": {},
   "outputs": [],
   "source": [
    "carla_map_dir = \"C:\\\\Carla-0.10.0\\\\CarlaUnreal\\\\Content\\\\Carla\\\\Maps\\\\OpenDrive\"\n",
    "odr_file = os.path.join(carla_map_dir, \"Town04.xodr\")\n",
    "\n",
    "road_network = RoadNetwork(xodr_file_path=odr_file)"
   ]
  },
  {
   "cell_type": "code",
   "execution_count": null,
   "id": "6fb6ef11",
   "metadata": {},
   "outputs": [],
   "source": [
    "roads = road_network.get_roads()\n",
    "print(f\"Number of roads in the network: {len(roads)}\")\n",
    "print(f\"Type: {type(roads[0])}\\nRoads: {roads}\")"
   ]
  },
  {
   "cell_type": "code",
   "execution_count": null,
   "id": "b75ca96f",
   "metadata": {},
   "outputs": [],
   "source": [
    "multi_lane_section_roads = []\n",
    "\n",
    "for road in roads:\n",
    "    if len(road.lane_sections) > 1:\n",
    "        multi_lane_section_roads.append(road)\n",
    "\n",
    "print(f\"Number of roads with multiple lane sections: {len(multi_lane_section_roads)}\")\n",
    "print(\"Road IDs with multiple lane sections:\")\n",
    "for road in multi_lane_section_roads:\n",
    "    print(f\"  - {road.id}\")\n",
    "\n",
    "# Check for no links case in lanes of roads with multiple lane sections\n",
    "for road in multi_lane_section_roads:\n",
    "    for lane_section in road.lane_sections:\n",
    "        for lane in lane_section.left_lanes:\n",
    "            if lane.lane_xml.attrib[\"type\"] == \"driving\":\n",
    "                link_xml = lane.lane_xml.find(\"link\")\n",
    "                if link_xml is None:\n",
    "                    print(\n",
    "                        f\"  - Road ID: {road.id}, Lane Section ID: {lane_section.lane_section_ordinal}, Lane ID: {lane.id} has no link.\"\n",
    "                    )\n",
    "        for lane in lane_section.right_lanes:\n",
    "            if lane.lane_xml.attrib[\"type\"] == \"driving\":\n",
    "                link_xml = lane.lane_xml.find(\"link\")\n",
    "                if link_xml is None:\n",
    "                    print(\n",
    "                        f\"  - Road ID: {road.id}, Lane Section ID: {lane_section.lane_section_ordinal}, Lane ID: {lane.id} has no link.\"\n",
    "                    )"
   ]
  },
  {
   "cell_type": "markdown",
   "id": "08461732",
   "metadata": {},
   "source": [
    "Conclusion: There is no driving lane without a link in a road that has multiple lane_sections"
   ]
  },
  {
   "cell_type": "code",
   "execution_count": null,
   "id": "70cb7fb6",
   "metadata": {},
   "outputs": [],
   "source": [
    "# Finding multi-successor/predecessor roads\n",
    "\n",
    "multi_successor_roads = []\n",
    "multi_predecessor_roads = []\n",
    "\n",
    "for road in road_network.get_roads():\n",
    "    if len(road.road_xml.find(\"link\").findall(\"successor\")) > 1:\n",
    "        multi_successor_roads.append(road)\n",
    "    if len(road.road_xml.find(\"link\").findall(\"predecessor\")) > 1:\n",
    "        multi_predecessor_roads.append(road)\n",
    "\n",
    "print(f\"Multi-successor roads: {[road.id for road in multi_successor_roads]}\")\n",
    "print(f\"Multi-predecessor roads: {[road.id for road in multi_predecessor_roads]}\")\n",
    "\n",
    "# Finding multi-successor/predecessor lanes\n",
    "\n",
    "multi_successor_lanes = []\n",
    "multi_predecessor_lanes = []\n",
    "\n",
    "for road in road_network.get_roads():\n",
    "    for lane_section in road.lane_sections:\n",
    "        for lane in lane_section.left_lanes + lane_section.right_lanes:\n",
    "            if lane.lane_xml.find(\"link\") is not None:\n",
    "                if lane.lane_xml.find(\"link\").findall(\"successor\") is not []:\n",
    "                    if len(lane.lane_xml.find(\"link\").findall(\"successor\")) > 1:\n",
    "                        multi_successor_lanes.append((lane.id, lane_section.lane_section_ordinal, road.id))\n",
    "                if lane.lane_xml.find(\"link\").findall(\"predecessor\") is not []:\n",
    "                    if len(lane.lane_xml.find(\"link\").findall(\"predecessor\")) > 1:\n",
    "                        multi_predecessor_lanes.append((lane.id, lane_section.lane_section_ordinal, road.id))\n",
    "\n",
    "print(f\"Multi-successor lanes: {multi_successor_lanes}\")\n",
    "print(f\"Multi-predecessor lanes: {multi_predecessor_lanes}\")"
   ]
  },
  {
   "cell_type": "markdown",
   "id": "5613bebc",
   "metadata": {},
   "source": [
    "Conclusion: There is no road element or lane that has multiple successor or predecessor links"
   ]
  },
  {
   "cell_type": "code",
   "execution_count": null,
   "id": "ac751a0b",
   "metadata": {},
   "outputs": [],
   "source": [
    "def get_road(road_network, road_id):\n",
    "    for road in road_network.get_roads():\n",
    "        if road.id == road_id:\n",
    "            return road\n",
    "    return None"
   ]
  },
  {
   "cell_type": "code",
   "execution_count": null,
   "id": "e63af106",
   "metadata": {},
   "outputs": [],
   "source": [
    "# Check if every pred of a road has itself as a succ/pred in the pred_road\n",
    "for road_obj in road_network.get_roads():\n",
    "    if road_obj.road_xml.attrib[\"junction\"] != \"-1\":\n",
    "        continue\n",
    "    if road_obj.road_xml.find(\"link\") is not None and road_obj.road_xml.find(\"link\").findall(\"predecessor\") is not []:\n",
    "        for pred in road_obj.road_xml.find(\"link\").findall(\"predecessor\"):\n",
    "            found = False\n",
    "            if pred.attrib[\"elementType\"] != \"road\":\n",
    "                continue\n",
    "            pred_road = get_road(road_network, pred.attrib[\"elementId\"])\n",
    "            if pred_road is not None:\n",
    "                if (\n",
    "                    pred_road.road_xml.find(\"link\") is not None\n",
    "                    and pred_road.road_xml.find(\"link\").findall(\"successor\") is not []\n",
    "                ):\n",
    "                    for succ in pred_road.road_xml.find(\"link\").findall(\"successor\"):\n",
    "                        if succ.attrib[\"elementType\"] == \"road\" and succ.attrib[\"elementId\"] == road_obj.id:\n",
    "                            found = True\n",
    "                            break\n",
    "                if (\n",
    "                    pred_road.road_xml.find(\"link\") is not None\n",
    "                    and pred_road.road_xml.find(\"link\").findall(\"predecessor\") is not []\n",
    "                ):\n",
    "                    for pred_pred in pred_road.road_xml.find(\"link\").findall(\"predecessor\"):\n",
    "                        if pred_pred.attrib[\"elementType\"] == \"road\" and pred_pred.attrib[\"elementId\"] == road_obj.id:\n",
    "                            found = True\n",
    "                            break\n",
    "                if not found:\n",
    "                    print(\n",
    "                        f\"Road {pred_road.id} is a predecessor of {road_obj.id}, but {pred_road.id} does not list {road_obj.id} as a successor/predecessor.\"\n",
    "                    )\n",
    "            else:\n",
    "                print(f\"Predecessor road with ID {pred.attrib['elementId']} not found in the network.\")"
   ]
  },
  {
   "cell_type": "markdown",
   "id": "eba158a3",
   "metadata": {},
   "source": [
    "Conclusion: Every predecessor of a road has itself as a successor/predecessor in the pred_road, and vice-versa for successor"
   ]
  },
  {
   "cell_type": "markdown",
   "id": "8a3083c5",
   "metadata": {},
   "source": [
    "Roads Data Analysis in JSON"
   ]
  },
  {
   "cell_type": "code",
   "execution_count": null,
   "id": "4826ec18",
   "metadata": {},
   "outputs": [],
   "source": [
    "json_dir = \"../carla\"  # replace with your directory path\n",
    "json_files = glob.glob(os.path.join(json_dir, \"*.json\"))\n",
    "\n",
    "for jf in json_files:\n",
    "    with open(jf, \"r\") as f:\n",
    "        print(f\"\\nReading JSON file: {jf}\")\n",
    "        data = json.load(f)\n",
    "        if \"roads\" in data:\n",
    "            num_geometries = [len(road[\"geometry\"]) for road in data[\"roads\"]]\n",
    "            print(f\"Number of roads in the JSON: {len(data['roads'])}\")\n",
    "            print(f\"Max geometries in a road: {max(num_geometries)}\")\n",
    "            print(f\"Min geometries in a road: {min(num_geometries)}\")\n",
    "            print(f\"Total geometries in the JSON: {sum(num_geometries)}\")\n",
    "            print(f\"Average geometries per road: {sum(num_geometries) / len(num_geometries)}\")\n",
    "        else:\n",
    "            print(\"No 'roads' key found in this JSON file.\")"
   ]
  }
 ],
 "metadata": {
  "kernelspec": {
   "display_name": "Python 3",
   "language": "python",
   "name": "python3"
  },
  "language_info": {
   "codemirror_mode": {
    "name": "ipython",
    "version": 3
   },
   "file_extension": ".py",
   "mimetype": "text/x-python",
   "name": "python",
   "nbconvert_exporter": "python",
   "pygments_lexer": "ipython3"
  }
 },
 "nbformat": 4,
 "nbformat_minor": 5
}
